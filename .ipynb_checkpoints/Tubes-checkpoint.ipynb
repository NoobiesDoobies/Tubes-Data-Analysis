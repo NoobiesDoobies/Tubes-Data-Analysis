{
 "cells": [
  {
   "attachments": {
    "Kaggle3.png": {
     "image/png": "[encoded data removed]"
    }
   },
   "cell_type": "markdown",
   "id": "ec253b34",
   "metadata": {},
   "source": [
    "# Tubes Pengenalan Komputasi (Analisis Data)\n",
    "## Kelompok 1\n",
    "|Nama|NIM|\n",
    "|:-:|:-:|\n",
    "|Muhammad Zamroni|16721038|\n",
    "|Billy Christianto|16721048|\n",
    "|Afifah Anugrayni|16721233|\n",
    "|Carlios Eryan|16721253|\n",
    "\n",
    "\n",
    "## Dataset yang digunakan:\n",
    "1. Life Expectancy [(sumber)](https://www.kaggle.com/kumarajarshi/life-expectancy-who)\n",
    "> Format: CSV \n",
    "> \n",
    ">Ukuran file: 333 kB \n",
    "> \n",
    "> Dimensi: 2938 baris x 22 kolom\n",
    ">\n",
    "> Deskripsi:\n",
    "\n",
    "2. World Happiness [(sumber)](https://www.kaggle.com/unsdsn/world-happiness)\n",
    "> Format: CSV \n",
    "> \n",
    "> Ukuran file: 16.6 kB \n",
    "> \n",
    "> Dimensi: 158 baris x 12 kolom\n",
    ">\n",
    "> Deskripsi:\n",
    "\n",
    "## Semua data ini kami dapatkan dari website Kaggle\n",
    "![Kaggle3.png](attachment:Kaggle3.png)\n",
    "\n",
    "## Data yang akan dianalisis dan visualisasi:\n",
    "1. \n",
    "2. \n",
    "\n"
   ]
  },
  {
   "cell_type": "markdown",
   "id": "e8708d7b",
   "metadata": {},
   "source": [
    "![](Purple.png)"
   ]
  },
  {
   "cell_type": "markdown",
   "id": "853e87af",
   "metadata": {},
   "source": [
    "# A. Pendahuluan\n",
    "\n",
    "****"
   ]
  },
  {
   "cell_type": "markdown",
   "id": "e6856fa0",
   "metadata": {},
   "source": [
    "## Import library yang akan digunakan"
   ]
  },
  {
   "cell_type": "code",
   "execution_count": 114,
   "id": "f8abcfbc",
   "metadata": {},
   "outputs": [],
   "source": [
    "import pandas as pd\n",
    "import numpy as np\n",
    "import matplotlib.pyplot as plt\n",
    "from scipy.stats.mstats import winsorize"
   ]
  },
  {
   "cell_type": "markdown",
   "id": "320fcb7e",
   "metadata": {},
   "source": [
    "![](Blue.png)"
   ]
  },
  {
   "cell_type": "markdown",
   "id": "96f4b71d",
   "metadata": {},
   "source": [
    "## Membaca Data"
   ]
  },
  {
   "cell_type": "code",
   "execution_count": 115,
   "id": "9ffd14b2",
   "metadata": {},
   "outputs": [],
   "source": [
    "dfL = pd.read_csv(\"./life_expectancy.csv\")\n",
    "dfW = pd.read_csv(\"./world_happiness2015.csv\")"
   ]
  },
  {
   "cell_type": "markdown",
   "id": "57671f8b",
   "metadata": {},
   "source": [
    "![](Purple.png)"
   ]
  },
  {
   "cell_type": "markdown",
   "id": "d5835868",
   "metadata": {},
   "source": [
    "# B. Deskripsi Data dan File\n",
    "****"
   ]
  },
  {
   "cell_type": "markdown",
   "id": "1e5b5381",
   "metadata": {},
   "source": [
    "## Deskripsi Data"
   ]
  },
  {
   "cell_type": "markdown",
   "id": "374c62f3",
   "metadata": {},
   "source": [
    "1. Life Expectancy:\n",
    "\n",
    "2. World Happiness: "
   ]
  },
  {
   "cell_type": "markdown",
   "id": "c90c36a1",
   "metadata": {},
   "source": [
    "![](Blue.png)"
   ]
  },
  {
   "cell_type": "markdown",
   "id": "40e10ef0",
   "metadata": {},
   "source": [
    "## Deskripsi File"
   ]
  },
  {
   "cell_type": "markdown",
   "id": "43a09f8a",
   "metadata": {},
   "source": [
    "1. Life Expectancy [(sumber)](https://www.kaggle.com/kumarajarshi/life-expectancy-who)\n",
    "> Format: CSV \n",
    "> \n",
    "> Ukuran file: 333 kB \n",
    "> \n",
    "> Dimensi: 2938 baris x 22 kolom\n",
    "\n",
    "\n",
    "2. World Happiness [(sumber)](https://www.kaggle.com/unsdsn/world-happiness)\n",
    "> Format: CSV \n",
    "> \n",
    "> Ukuran file: 16.6 kB \n",
    "> \n",
    "> Dimensi: 158 baris x 12 kolom\n"
   ]
  },
  {
   "cell_type": "markdown",
   "id": "38617b59",
   "metadata": {},
   "source": [
    "![](Blue.png)"
   ]
  },
  {
   "cell_type": "markdown",
   "id": "028e572c",
   "metadata": {},
   "source": [
    "## Dimensi Data"
   ]
  },
  {
   "cell_type": "code",
   "execution_count": 116,
   "id": "c95d2a20",
   "metadata": {},
   "outputs": [
    {
     "name": "stdout",
     "output_type": "stream",
     "text": [
      "Dimensi data life expectancy: 2938 baris x 22 kolom\n",
      "Dimensi data world happiness tahun 2015: 158 baris x 12 kolom\n"
     ]
    }
   ],
   "source": [
    "print(f\"Dimensi data life expectancy: {dfL.shape[0]} baris x {dfL.shape[1]} kolom\")\n",
    "print(f\"Dimensi data world happiness tahun 2015: {dfW.shape[0]} baris x {dfW.shape[1]} kolom\")"
   ]
  },
  {
   "cell_type": "markdown",
   "id": "f7708a36",
   "metadata": {},
   "source": [
    "![](Purple.png)"
   ]
  },
  {
   "cell_type": "markdown",
   "id": "10a0d4f9",
   "metadata": {},
   "source": [
    "# C. Karakteristik Data\n",
    "****"
   ]
  },
  {
   "cell_type": "markdown",
   "id": "36f66c13",
   "metadata": {},
   "source": [
    "## Nama Kolom:"
   ]
  },
  {
   "cell_type": "code",
   "execution_count": 117,
   "id": "f357c0e1",
   "metadata": {},
   "outputs": [
    {
     "data": {
      "text/plain": [
       "Index(['Country', 'Year', 'Status', 'Life expectancy ', 'Adult Mortality',\n",
       "       'infant deaths', 'Alcohol', 'percentage expenditure', 'Hepatitis B',\n",
       "       'Measles ', 'BMI ', 'under-five deaths ', 'Polio', 'Total expenditure',\n",
       "       'Diphtheria ', 'HIV/AIDS', 'GDP', 'Population', 'thinness  1-19 years',\n",
       "       'thinness 5-9 years', 'Income composition of resources', 'Schooling'],\n",
       "      dtype='object')"
      ]
     },
     "execution_count": 117,
     "metadata": {},
     "output_type": "execute_result"
    }
   ],
   "source": [
    "dfL.columns"
   ]
  },
  {
   "cell_type": "code",
   "execution_count": 118,
   "id": "8800b5cb",
   "metadata": {},
   "outputs": [
    {
     "data": {
      "text/plain": [
       "Index(['Country', 'Region', 'Happiness Rank', 'Happiness Score',\n",
       "       'Standard Error', 'Economy (GDP per Capita)', 'Family',\n",
       "       'Health (Life Expectancy)', 'Freedom', 'Trust (Government Corruption)',\n",
       "       'Generosity', 'Dystopia Residual'],\n",
       "      dtype='object')"
      ]
     },
     "execution_count": 118,
     "metadata": {},
     "output_type": "execute_result"
    }
   ],
   "source": [
    "dfW.columns"
   ]
  },
  {
   "cell_type": "markdown",
   "id": "727c3364",
   "metadata": {},
   "source": [
    "![](Blue.png)"
   ]
  },
  {
   "cell_type": "markdown",
   "id": "42ef0b6c",
   "metadata": {},
   "source": [
    "## Rename Kolom"
   ]
  },
  {
   "cell_type": "code",
   "execution_count": 119,
   "id": "2adbf7c4",
   "metadata": {},
   "outputs": [],
   "source": [
    "dfL.rename(columns = {\" BMI \" :\"BMI\", \n",
    "                      \"Life expectancy \": \"Life_expectancy\",\n",
    "                      \"Adult Mortality\":\"Adult_mortality\",\n",
    "                      \"infant deaths\":\"Infant_deaths\",\n",
    "                      \"percentage expenditure\":\"Percentage_expenditure\",\n",
    "                      \"Hepatitis B\":\"HepatitisB\",\n",
    "                      \"Measles \":\"Measles\",\n",
    "                      \"under-five deaths \": \"Under_five_deaths\",\n",
    "                      \"Total expenditure\":\"Total_expenditure\",\n",
    "                      \"Diphtheria \": \"Diphtheria\",\n",
    "                      \"thinness  1-19 years\":\"Thinness_1-19_years\",\n",
    "                      \"thinness 5-9 years\":\"Thinness_5-9_years\",\n",
    "                      \" HIV/AIDS\":\"HIV/AIDS\",\n",
    "                      \"Income composition of resources\":\"Income_composition_of_resources\"}, inplace = True)"
   ]
  },
  {
   "cell_type": "code",
   "execution_count": 120,
   "id": "e7d4330c",
   "metadata": {},
   "outputs": [
    {
     "data": {
      "text/plain": [
       "Index(['Country', 'Year', 'Status', 'Life_expectancy', 'Adult_mortality',\n",
       "       'Infant_deaths', 'Alcohol', 'Percentage_expenditure', 'HepatitisB',\n",
       "       'Measles', 'BMI ', 'Under_five_deaths', 'Polio', 'Total_expenditure',\n",
       "       'Diphtheria', 'HIV/AIDS', 'GDP', 'Population', 'Thinness_1-19_years',\n",
       "       'Thinness_5-9_years', 'Income_composition_of_resources', 'Schooling'],\n",
       "      dtype='object')"
      ]
     },
     "execution_count": 120,
     "metadata": {},
     "output_type": "execute_result"
    }
   ],
   "source": [
    "dfL.columns"
   ]
  },
  {
   "cell_type": "code",
   "execution_count": 121,
   "id": "c77971a7",
   "metadata": {},
   "outputs": [],
   "source": [
    "dfW.rename(columns = {\"Happiness Rank\":\"Happiness_rank\",\n",
    "                      \"Happiness Score\":\"Happiness_score\",\n",
    "                      \"Standard Error\":\"Standard_error\",\n",
    "                      \"Economy (GDP per Capita)\":\"Economy(GDP_per_capita)\",\n",
    "                      \"Health (Life Expectancy)\":\"Health(Life_expectancy)\",\n",
    "                      \"Trust (Government Corruption)\":\"Trust(Goverment_corruption)\",\n",
    "                      \"Dystopia Residual\":\"Dystopia_residual\"}, inplace = True)"
   ]
  },
  {
   "cell_type": "code",
   "execution_count": 122,
   "id": "21fb41db",
   "metadata": {},
   "outputs": [
    {
     "data": {
      "text/plain": [
       "Index(['Country', 'Region', 'Happiness_rank', 'Happiness_score',\n",
       "       'Standard_error', 'Economy(GDP_per_capita)', 'Family',\n",
       "       'Health(Life_expectancy)', 'Freedom', 'Trust(Goverment_corruption)',\n",
       "       'Generosity', 'Dystopia_residual'],\n",
       "      dtype='object')"
      ]
     },
     "execution_count": 122,
     "metadata": {},
     "output_type": "execute_result"
    }
   ],
   "source": [
    "dfW.columns"
   ]
  },
  {
   "cell_type": "markdown",
   "id": "90454b8a",
   "metadata": {},
   "source": [
    "## Tipe data"
   ]
  },
  {
   "cell_type": "markdown",
   "id": "9edc9211",
   "metadata": {},
   "source": [
    "### A. Tipe data life expectancy"
   ]
  },
  {
   "cell_type": "code",
   "execution_count": 123,
   "id": "97639a56",
   "metadata": {
    "scrolled": true
   },
   "outputs": [
    {
     "data": {
      "text/plain": [
       "Country                             object\n",
       "Year                                 int64\n",
       "Status                              object\n",
       "Life_expectancy                    float64\n",
       "Adult_mortality                    float64\n",
       "Infant_deaths                        int64\n",
       "Alcohol                            float64\n",
       "Percentage_expenditure             float64\n",
       "HepatitisB                         float64\n",
       "Measles                              int64\n",
       "BMI                                float64\n",
       "Under_five_deaths                    int64\n",
       "Polio                              float64\n",
       "Total_expenditure                  float64\n",
       "Diphtheria                         float64\n",
       "HIV/AIDS                           float64\n",
       "GDP                                float64\n",
       "Population                         float64\n",
       "Thinness_1-19_years                float64\n",
       "Thinness_5-9_years                 float64\n",
       "Income_composition_of_resources    float64\n",
       "Schooling                          float64\n",
       "dtype: object"
      ]
     },
     "execution_count": 123,
     "metadata": {},
     "output_type": "execute_result"
    }
   ],
   "source": [
    "dfL.dtypes"
   ]
  },
  {
   "cell_type": "markdown",
   "id": "6b5ae146",
   "metadata": {},
   "source": [
    "#### Penjelasan Kolom:\n",
    "1. Country: Negara\n",
    "2. Year: Tahun\n",
    "3. Status: Negara berkembang atau maju (Developing/Developed)\n",
    "4. Life_expectancy: Harapan hidup (dalam tahun)\n",
    "5. Adult_Mortality: Kematian pada umur dewasa untuk kedua jenis kelamin (Probabilitas meninggal pada umur antara 15 sampai 60 per 1000 populasi)\n",
    "6. Infant_deaths: Jumlah kematian bayi per 1000 populasi\n",
    "7. Alcohol: Konsumsi alkohol per kapita (dalam liter alkohol murni)\n",
    "8. Percentage_expenditure: Biaya pengeluaran dalam bidang kesehatan (dalam persentase dari bruto produk domestik per kapita)\n",
    "9. Hepatitis B: Imunisasi Hepatitis B untuk anak umur 1 tahun (dalam persentase)\n",
    "10. Measles: Jumlah laporan kasus campak per 1000 populasi\n",
    "11. Under_five_deaths: Jumlah kematian di bawah 5 tahun per 1000 populasi\n",
    "12. Polio: Imunisasi untuk anak umur 1 tahun (dalam persentase)\n",
    "13. Total_expenditure: Pengeluaran total dalam bidang kesehatan dari total pengeluaran total pemerintah (dalam persentase)\n",
    "14. Diphtheria: Imunisasi Diphteria tetanus toxoid and pertussis (DTP3) untuk anak umur 1 tahun (dalam persentase)\n",
    "15. HIV/AIDS: Kematian per 1000 kelahiran dengan HIV/AIDS (0-4 tahun)\n",
    "16. GDP: Gross Domestic per capita (dalam USD)\n",
    "17. Population: Jumlah populasi sebuah negara\n",
    "18. thinness_1-19 years: Tersebarnya kekurusan anak anak dan remaja umur 10 hingga 19 (dalam persentase)\n",
    "19. thinness_5-9_years: Tersebarnya kekurusan anak anak umur 5 hingga 9 (dalam persentase)\n",
    "20. Income_composition of resources: Indeks Pembangunan Manusia dalam aspek komposisi pendapatan dari sumber daya (berkisar dari 0 hingga 1)\n",
    "21. Schooling: Jumlah tahun sekolah (dalam tahun)"
   ]
  },
  {
   "cell_type": "markdown",
   "id": "80cd3bd3",
   "metadata": {},
   "source": [
    "#### Jenis Data:\n",
    "- Categorical-Nominal: Country\n",
    "- Categorical-Binary: Status\n",
    "- Quantitative-Discrete: Year, Adult Mortality, infant deaths, Hepatitis B, Measles, under-five deaths, Polio, Diphtheria, Population\n",
    "- Quantitative-Continues: Life expectancy, Alcohol, percentage expenditure, BMI, total expenditure, HIV/AIDS, GDP, thinness 1-19 years, thinness 5-9 years, Income composition of resources\""
   ]
  },
  {
   "cell_type": "markdown",
   "id": "844b93c5",
   "metadata": {},
   "source": [
    "### B. Tipe Data World Happiness"
   ]
  },
  {
   "cell_type": "code",
   "execution_count": 124,
   "id": "3ec049ae",
   "metadata": {},
   "outputs": [
    {
     "data": {
      "text/plain": [
       "Country                         object\n",
       "Region                          object\n",
       "Happiness_rank                   int64\n",
       "Happiness_score                float64\n",
       "Standard_error                 float64\n",
       "Economy(GDP_per_capita)        float64\n",
       "Family                         float64\n",
       "Health(Life_expectancy)        float64\n",
       "Freedom                        float64\n",
       "Trust(Goverment_corruption)    float64\n",
       "Generosity                     float64\n",
       "Dystopia_residual              float64\n",
       "dtype: object"
      ]
     },
     "execution_count": 124,
     "metadata": {},
     "output_type": "execute_result"
    }
   ],
   "source": [
    "dfW.dtypes"
   ]
  },
  {
   "cell_type": "markdown",
   "id": "945c3af3",
   "metadata": {},
   "source": [
    "#### Penjelasan Kolom:\n",
    "1. Country: Nama Negara\n",
    "2. Region: Daerah letak sebuah negara\n",
    "3. Happiness Rank: Ranking sebuah negara berdasarkan tingkat kebahagiaan\n",
    "4. Standard Error: Kesalahan standar\n",
    "5. Economy: TBC"
   ]
  },
  {
   "cell_type": "markdown",
   "id": "a8952771",
   "metadata": {},
   "source": [
    "#### Jenis Data:\n",
    "- TBC \n",
    "- "
   ]
  },
  {
   "cell_type": "markdown",
   "id": "5a3a3812",
   "metadata": {},
   "source": [
    "![](Blue.png)"
   ]
  },
  {
   "cell_type": "markdown",
   "id": "ef285051",
   "metadata": {},
   "source": [
    "## Karakteristik Data"
   ]
  },
  {
   "cell_type": "code",
   "execution_count": 125,
   "id": "5f891acc",
   "metadata": {},
   "outputs": [],
   "source": [
    "# TBC"
   ]
  },
  {
   "cell_type": "markdown",
   "id": "814c332d",
   "metadata": {},
   "source": [
    "![](Purple.png)"
   ]
  },
  {
   "cell_type": "markdown",
   "id": "95b9120f",
   "metadata": {},
   "source": [
    "# D. Data Cleaning\n",
    "****"
   ]
  },
  {
   "cell_type": "markdown",
   "id": "2b80a490",
   "metadata": {},
   "source": [
    "## 1. Data Life Expectancy"
   ]
  },
  {
   "cell_type": "markdown",
   "id": "862840c5",
   "metadata": {},
   "source": [
    "### Jumlah data yang kosong untuk tiap kolom data life expectancy"
   ]
  },
  {
   "cell_type": "code",
   "execution_count": 126,
   "id": "3d0c20fd",
   "metadata": {},
   "outputs": [
    {
     "name": "stdout",
     "output_type": "stream",
     "text": [
      "\u001b[1mNama Kolom                         Jumlah Data Kosong  Jumlah Data    Persentase Kosong\u001b[0m\n",
      "Country                            0                   2938           0.00%\n",
      "Year                               0                   2938           0.00%\n",
      "Status                             0                   2938           0.00%\n",
      "Life_expectancy                    10                  2938           0.34%\n",
      "Adult_mortality                    10                  2938           0.34%\n",
      "Infant_deaths                      0                   2938           0.00%\n",
      "Alcohol                            194                 2938           6.60%\n",
      "Percentage_expenditure             0                   2938           0.00%\n",
      "HepatitisB                         553                 2938           18.82%\n",
      "Measles                            0                   2938           0.00%\n",
      "BMI                                34                  2938           1.16%\n",
      "Under_five_deaths                  0                   2938           0.00%\n",
      "Polio                              19                  2938           0.65%\n",
      "Total_expenditure                  226                 2938           7.69%\n",
      "Diphtheria                         19                  2938           0.65%\n",
      "HIV/AIDS                           0                   2938           0.00%\n",
      "GDP                                448                 2938           15.25%\n",
      "Population                         652                 2938           22.19%\n",
      "Thinness_1-19_years                34                  2938           1.16%\n",
      "Thinness_5-9_years                 34                  2938           1.16%\n",
      "Income_composition_of_resources    167                 2938           5.68%\n",
      "Schooling                          163                 2938           5.55%\n"
     ]
    }
   ],
   "source": [
    "print(\"\\033[1m{:35}{:20}{:15}{:<15}\\033[0m\".format(\"Nama Kolom\", \"Jumlah Data Kosong\", \"Jumlah Data\", \"Persentase Kosong\"))\n",
    "for i in range(len(dfL.columns)):\n",
    "    persentase = dfL[dfL.columns[i]].isna().sum()/len(dfL[dfL.columns[i]])*100\n",
    "    Nama = dfL.columns[i].replace(\" \", \"\")\n",
    "    dK = dfL[dfL.columns[i]].isna().sum()\n",
    "    jD = len(dfL[dfL.columns[i]])\n",
    "    persentase = dK/jD*100\n",
    "    print(\"{:<35}{:<20}{:<15}{:.2f}%\".format(Nama, dK, jD, persentase))"
   ]
  },
  {
   "cell_type": "markdown",
   "id": "22408d60",
   "metadata": {},
   "source": [
    "#### Data ini merupakan data gabungan dari beberapa data masing-masing negara. Ada aspek yang tidak dilaporkan beberapa negara seperti vaksinasi hepatitis B, GDP, dan Populasi. Data yang kosong ini berasal dari negara yang terpencil seperti Vanuatu, Tonga, Togo, dan Carbo Verde.\n",
    "#### Data yang kosong (berupa Null) ini diputuskan untuk dibiarkan karena tujuan dari analisis ini adalah membandingkan aspek apa yang berkorelasi dengan harapan hidup. Untuk negara dengan sebuah kolom yang kosong masih bisa berguna untuk dianalisis aspek lainnya. (Misal negara Argentina dengan kolom Hepatitis B nya yang kosong namun kolom lainnya tidak)."
   ]
  },
  {
   "cell_type": "markdown",
   "id": "bffc078d",
   "metadata": {},
   "source": [
    "![](Blue.png)"
   ]
  },
  {
   "cell_type": "markdown",
   "id": "3fcd8dae",
   "metadata": {},
   "source": [
    "### Menghapus Outliers (Data yang Berbeda Jauh dengan Lainnya)"
   ]
  },
  {
   "cell_type": "markdown",
   "id": "e34bd1e8",
   "metadata": {},
   "source": [
    "#### Menggunakan Plot Kotak (Box Plot) Untuk Mencari Outliers"
   ]
  },
  {
   "cell_type": "code",
   "execution_count": 127,
   "id": "03bc47fb",
   "metadata": {},
   "outputs": [
    {
     "data": {
      "image/png": "[encoded data removed]",
      "text/plain": [
       "<Figure size 1440x2160 with 19 Axes>"
      ]
     },
     "metadata": {
      "needs_background": "light"
     },
     "output_type": "display_data"
    }
   ],
   "source": [
    "plt.figure(figsize=(20,30))\n",
    "# numerical untuk menyimpan dataframe yang berupa integer/float\n",
    "numerical = pd.DataFrame().reindex_like(dfL)\n",
    "\n",
    "for i in range(3, len(dfL.columns)):\n",
    "    if(dfL[dfL.columns[i]].dtypes == \"int64\" or dfL[dfL.columns[i]].dtypes == \"float64\"):\n",
    "        numerical[dfL.columns[i]] = dfL[dfL.columns[i]]\n",
    "\n",
    "numerical = numerical.drop([\"Country\", \"Year\", \"Status\"], axis=1)\n",
    "\n",
    "for i in range (3, len(dfL.columns)):\n",
    "    plt.subplot(5,4,i-2)\n",
    "    numerical.boxplot(column=dfL.columns[i], color=\"Red\")\n",
    "    plt.grid(True)\n",
    "plt.show()\n"
   ]
  },
  {
   "cell_type": "markdown",
   "id": "553ec44b",
   "metadata": {},
   "source": [
    "#### Infant_deaths, Measles, Under_five_deaths, HIV/AIDS adalah data per 1000 populasi. Keempat data ini tidak mungkin melebihi 1000, sehingga data yang melebihi 1000 harus dihapus.\n",
    "#### Beberapa negara memiliki nilai GDP dan Expenditure_percentage yang melebihi 20.000%, sehingga perlu diolah lebih lanjut.\n",
    "#### Nilai BMI yang melebihi 35 sudah termasuk obesitas, namun dari boxplot, terlihat bahwa lebih dari setengah data BMI melebihi 35. Kolom ini tidak valid sehingga diputuskan untuk di-delete\n",
    "![](BMI.jpeg)"
   ]
  },
  {
   "cell_type": "markdown",
   "id": "de514267",
   "metadata": {},
   "source": [
    "#### Menghapus data Infant_deaths, Measles, Under_five_deaths, HIV/AIDS yang melebihi 1000"
   ]
  },
  {
   "cell_type": "code",
   "execution_count": 128,
   "id": "8f2c316c",
   "metadata": {},
   "outputs": [],
   "source": [
    "dfL = dfL[dfL[\"Infant_deaths\"] <= 1000]\n",
    "dfL = dfL[dfL[\"Measles\"] <= 1000]\n",
    "dfL = dfL[dfL[\"Under_five_deaths\"] <= 1000]"
   ]
  },
  {
   "cell_type": "markdown",
   "id": "f55a4b23",
   "metadata": {},
   "source": [
    "#### Menghapus Kolom BMI"
   ]
  },
  {
   "cell_type": "code",
   "execution_count": 129,
   "id": "fba22f7e",
   "metadata": {},
   "outputs": [],
   "source": [
    "dfL.drop([\"BMI\"], axis=1, inplace=True, errors=\"ignore\")"
   ]
  },
  {
   "cell_type": "markdown",
   "id": "49bc33fa",
   "metadata": {},
   "source": [
    "#### Menggunakan logaritma untuk mengubah data kolom \"Percentage_expenditure\", \"Population\", dan \"GDP\" menjadi logaritma dari nilainya karena perbandingan ukuran box dan data outliers yang jauh"
   ]
  },
  {
   "cell_type": "code",
   "execution_count": 145,
   "id": "3c79839f",
   "metadata": {},
   "outputs": [
    {
     "data": {
      "text/plain": [
       "{'divide': 'warn', 'over': 'warn', 'under': 'ignore', 'invalid': 'ignore'}"
      ]
     },
     "execution_count": 145,
     "metadata": {},
     "output_type": "execute_result"
    }
   ],
   "source": [
    "old = np.seterr(invalid='ignore')\n",
    "\n",
    "dfL[\"log_Percentage_expenditure\"] = np.log(dfL[\"Percentage_expenditure\"])\n",
    "dfL[\"log_Population\"] = np.log(dfL[\"Population\"])\n",
    "dfL[\"GDP\"] = np.log(dfL[\"GDP\"])\n",
    "dfL = dfL.replace([np.inf, -np.inf], 0)\n",
    "np.seterr(**old)"
   ]
  },
  {
   "cell_type": "markdown",
   "id": "c6aee97e",
   "metadata": {},
   "source": [
    "#### Dikarenakan semua data mempunyai outliers yang cukup banyak, maka akan digunakan metode winsorization yaitu dengan mengubah nilai outliers menjadi nilai persentil yang terdekat"
   ]
  },
  {
   "cell_type": "code",
   "execution_count": 131,
   "id": "71fae339",
   "metadata": {},
   "outputs": [],
   "source": [
    "dfL['winz_Life_expectancy'] = winsorize(dfL['Life_expectancy'], (0.05,0))\n",
    "dfL['winz_Adult_mortality'] = winsorize(dfL['Adult_mortality'], (0,0.04))\n",
    "dfL['winz_Alcohol'] = winsorize(dfL['Alcohol'], (0.0,0.01))\n",
    "dfL['winz_HepatitisB'] = winsorize(dfL['HepatitisB'], (0.20,0.0))\n",
    "dfL['winz_Polio'] = winsorize(dfL['Polio'], (0.20,0.0))\n",
    "dfL['winz_Total_expenditure'] = winsorize(dfL['Total_expenditure'], (0.0,0.02))\n",
    "dfL['winz_Diphtheria'] = winsorize(dfL['Diphtheria'], (0.11,0.0))\n",
    "dfL['winz_HIV/AIDS'] = winsorize(dfL['HIV/AIDS'], (0.0,0.21))\n",
    "dfL['winz_Thinness_1-19_years'] = winsorize(dfL['Thinness_1-19_years'], (0.0,0.04))\n",
    "dfL['winz_Thinness_5-9_years'] = winsorize(dfL['Thinness_5-9_years'], (0.0,0.04))\n",
    "dfL['winz_Income_composition_of_resources'] = winsorize(dfL['Income_composition_of_resources'], (0.05,0.0))\n",
    "dfL['winz_Schooling'] = winsorize(dfL['Schooling'], (0.03,0.01))"
   ]
  },
  {
   "cell_type": "markdown",
   "id": "17dd8a6a",
   "metadata": {},
   "source": [
    "#### Dimensi data setelah data cleaning"
   ]
  },
  {
   "cell_type": "code",
   "execution_count": 132,
   "id": "4aa79c04",
   "metadata": {},
   "outputs": [
    {
     "name": "stdout",
     "output_type": "stream",
     "text": [
      "Dimensi data life expectancy sebelum data cleaning: 2938 baris x 22 kolom\n",
      "Dimensi data life expectancy setelah data cleaning: 2413 baris x 36 kolom\n"
     ]
    }
   ],
   "source": [
    "print(f\"Dimensi data life expectancy sebelum data cleaning: {2938} baris x {22} kolom\")\n",
    "print(f\"Dimensi data life expectancy setelah data cleaning: {dfL.shape[0]} baris x {dfL.shape[1]} kolom\")"
   ]
  },
  {
   "cell_type": "code",
   "execution_count": null,
   "id": "796996d1",
   "metadata": {},
   "outputs": [],
   "source": []
  },
  {
   "cell_type": "markdown",
   "id": "d374fae8",
   "metadata": {},
   "source": [
    "![](Blue.png)"
   ]
  },
  {
   "cell_type": "markdown",
   "id": "6f1abc4d",
   "metadata": {},
   "source": [
    "## 2. Data World Happiness"
   ]
  },
  {
   "cell_type": "markdown",
   "id": "450ebded",
   "metadata": {},
   "source": [
    "### Jumlah data yang kosong untuk tiap kolom data world happiness 2015"
   ]
  },
  {
   "cell_type": "code",
   "execution_count": null,
   "id": "dd64fe78",
   "metadata": {},
   "outputs": [],
   "source": [
    "print(\"\\033[1m{:30}{:20}{:15}{:<15}\\033[0m\".format(\"Nama Kolom\", \"Jumlah Data Kosong\", \"Jumlah Data\", \"Persentase Kosong\"))\n",
    "for i in range(len(dfW.columns)):\n",
    "    persentase = dfW[dfW.columns[i]].isna().sum()/len(dfW[dfW.columns[i]])*100\n",
    "    Nama = dfW.columns[i].replace(\" \", \"\")\n",
    "    dK = dfW[dfW.columns[i]].isna().sum()\n",
    "    jD = len(dfW[dfW.columns[i]])\n",
    "    persentase = dK/jD*100\n",
    "    print(\"{:<30}{:<20}{:<15}{:.2f}%\".format(Nama, dK, jD, persentase))\n"
   ]
  },
  {
   "cell_type": "markdown",
   "id": "951f82b9",
   "metadata": {},
   "source": [
    "### Tidak ada data world happiness yang kosong, sehingga tidak perlu dilakukan data cleaning"
   ]
  },
  {
   "cell_type": "markdown",
   "id": "e3372835",
   "metadata": {},
   "source": [
    "![](Purple.png)"
   ]
  },
  {
   "cell_type": "markdown",
   "id": "828496fc",
   "metadata": {},
   "source": [
    "# E. Statistik\n",
    "****"
   ]
  },
  {
   "cell_type": "markdown",
   "id": "ab06e06b",
   "metadata": {},
   "source": [
    "## Sampel Data"
   ]
  },
  {
   "cell_type": "markdown",
   "id": "51abd008",
   "metadata": {},
   "source": [
    "### 1. Sampel Data Life Expectancy"
   ]
  },
  {
   "cell_type": "code",
   "execution_count": 77,
   "id": "f6c12d64",
   "metadata": {},
   "outputs": [
    {
     "data": {
      "text/html": [
       "<div>\n",
       "<style scoped>\n",
       "    .dataframe tbody tr th:only-of-type {\n",
       "        vertical-align: middle;\n",
       "    }\n",
       "\n",
       "    .dataframe tbody tr th {\n",
       "        vertical-align: top;\n",
       "    }\n",
       "\n",
       "    .dataframe thead th {\n",
       "        text-align: right;\n",
       "    }\n",
       "</style>\n",
       "<table border=\"1\" class=\"dataframe\">\n",
       "  <thead>\n",
       "    <tr style=\"text-align: right;\">\n",
       "      <th></th>\n",
       "      <th>Country</th>\n",
       "      <th>Year</th>\n",
       "      <th>Status</th>\n",
       "      <th>Life_expectancy</th>\n",
       "      <th>Adult_mortality</th>\n",
       "      <th>Infant_deaths</th>\n",
       "      <th>Alcohol</th>\n",
       "      <th>Percentage_expenditure</th>\n",
       "      <th>HepatitisB</th>\n",
       "      <th>Measles</th>\n",
       "      <th>...</th>\n",
       "      <th>log_Percentage_expenditure</th>\n",
       "      <th>log_Population</th>\n",
       "      <th>winz_Life_expectancy</th>\n",
       "      <th>winz_Adult_mortality</th>\n",
       "      <th>winz_Alcohol</th>\n",
       "      <th>winz_HepatitisB</th>\n",
       "      <th>winz_Polio</th>\n",
       "      <th>winz_Total_expenditure</th>\n",
       "      <th>winz_Diphtheria</th>\n",
       "      <th>winz_HIV/AIDS</th>\n",
       "    </tr>\n",
       "  </thead>\n",
       "  <tbody>\n",
       "    <tr>\n",
       "      <th>1</th>\n",
       "      <td>Afghanistan</td>\n",
       "      <td>2014</td>\n",
       "      <td>Developing</td>\n",
       "      <td>59.9</td>\n",
       "      <td>271.0</td>\n",
       "      <td>64</td>\n",
       "      <td>0.01</td>\n",
       "      <td>73.523582</td>\n",
       "      <td>62.0</td>\n",
       "      <td>492</td>\n",
       "      <td>...</td>\n",
       "      <td>4.297606</td>\n",
       "      <td>12.699494</td>\n",
       "      <td>59.9</td>\n",
       "      <td>271.0</td>\n",
       "      <td>0.01</td>\n",
       "      <td>81.0</td>\n",
       "      <td>79.0</td>\n",
       "      <td>8.18</td>\n",
       "      <td>65.0</td>\n",
       "      <td>0.1</td>\n",
       "    </tr>\n",
       "    <tr>\n",
       "      <th>2</th>\n",
       "      <td>Afghanistan</td>\n",
       "      <td>2013</td>\n",
       "      <td>Developing</td>\n",
       "      <td>59.9</td>\n",
       "      <td>268.0</td>\n",
       "      <td>66</td>\n",
       "      <td>0.01</td>\n",
       "      <td>73.219243</td>\n",
       "      <td>64.0</td>\n",
       "      <td>430</td>\n",
       "      <td>...</td>\n",
       "      <td>4.293458</td>\n",
       "      <td>17.272826</td>\n",
       "      <td>59.9</td>\n",
       "      <td>268.0</td>\n",
       "      <td>0.01</td>\n",
       "      <td>81.0</td>\n",
       "      <td>79.0</td>\n",
       "      <td>8.13</td>\n",
       "      <td>65.0</td>\n",
       "      <td>0.1</td>\n",
       "    </tr>\n",
       "    <tr>\n",
       "      <th>11</th>\n",
       "      <td>Afghanistan</td>\n",
       "      <td>2004</td>\n",
       "      <td>Developing</td>\n",
       "      <td>57.0</td>\n",
       "      <td>293.0</td>\n",
       "      <td>87</td>\n",
       "      <td>0.02</td>\n",
       "      <td>15.296066</td>\n",
       "      <td>67.0</td>\n",
       "      <td>466</td>\n",
       "      <td>...</td>\n",
       "      <td>2.727596</td>\n",
       "      <td>16.998510</td>\n",
       "      <td>57.0</td>\n",
       "      <td>293.0</td>\n",
       "      <td>0.02</td>\n",
       "      <td>81.0</td>\n",
       "      <td>79.0</td>\n",
       "      <td>8.79</td>\n",
       "      <td>65.0</td>\n",
       "      <td>0.1</td>\n",
       "    </tr>\n",
       "    <tr>\n",
       "      <th>12</th>\n",
       "      <td>Afghanistan</td>\n",
       "      <td>2003</td>\n",
       "      <td>Developing</td>\n",
       "      <td>56.7</td>\n",
       "      <td>295.0</td>\n",
       "      <td>87</td>\n",
       "      <td>0.01</td>\n",
       "      <td>11.089053</td>\n",
       "      <td>65.0</td>\n",
       "      <td>798</td>\n",
       "      <td>...</td>\n",
       "      <td>2.405958</td>\n",
       "      <td>14.676226</td>\n",
       "      <td>56.7</td>\n",
       "      <td>295.0</td>\n",
       "      <td>0.01</td>\n",
       "      <td>81.0</td>\n",
       "      <td>79.0</td>\n",
       "      <td>8.82</td>\n",
       "      <td>65.0</td>\n",
       "      <td>0.1</td>\n",
       "    </tr>\n",
       "    <tr>\n",
       "      <th>16</th>\n",
       "      <td>Albania</td>\n",
       "      <td>2015</td>\n",
       "      <td>Developing</td>\n",
       "      <td>77.8</td>\n",
       "      <td>74.0</td>\n",
       "      <td>0</td>\n",
       "      <td>4.60</td>\n",
       "      <td>364.975229</td>\n",
       "      <td>99.0</td>\n",
       "      <td>0</td>\n",
       "      <td>...</td>\n",
       "      <td>5.899829</td>\n",
       "      <td>10.270662</td>\n",
       "      <td>77.8</td>\n",
       "      <td>74.0</td>\n",
       "      <td>4.60</td>\n",
       "      <td>99.0</td>\n",
       "      <td>99.0</td>\n",
       "      <td>6.00</td>\n",
       "      <td>99.0</td>\n",
       "      <td>0.1</td>\n",
       "    </tr>\n",
       "  </tbody>\n",
       "</table>\n",
       "<p>5 rows × 32 columns</p>\n",
       "</div>"
      ],
      "text/plain": [
       "        Country  Year      Status  Life_expectancy  Adult_mortality  \\\n",
       "1   Afghanistan  2014  Developing             59.9            271.0   \n",
       "2   Afghanistan  2013  Developing             59.9            268.0   \n",
       "11  Afghanistan  2004  Developing             57.0            293.0   \n",
       "12  Afghanistan  2003  Developing             56.7            295.0   \n",
       "16      Albania  2015  Developing             77.8             74.0   \n",
       "\n",
       "    Infant_deaths  Alcohol  Percentage_expenditure  HepatitisB  Measles  ...  \\\n",
       "1              64     0.01               73.523582        62.0      492  ...   \n",
       "2              66     0.01               73.219243        64.0      430  ...   \n",
       "11             87     0.02               15.296066        67.0      466  ...   \n",
       "12             87     0.01               11.089053        65.0      798  ...   \n",
       "16              0     4.60              364.975229        99.0        0  ...   \n",
       "\n",
       "    log_Percentage_expenditure  log_Population  winz_Life_expectancy  \\\n",
       "1                     4.297606       12.699494                  59.9   \n",
       "2                     4.293458       17.272826                  59.9   \n",
       "11                    2.727596       16.998510                  57.0   \n",
       "12                    2.405958       14.676226                  56.7   \n",
       "16                    5.899829       10.270662                  77.8   \n",
       "\n",
       "    winz_Adult_mortality  winz_Alcohol  winz_HepatitisB  winz_Polio  \\\n",
       "1                  271.0          0.01             81.0        79.0   \n",
       "2                  268.0          0.01             81.0        79.0   \n",
       "11                 293.0          0.02             81.0        79.0   \n",
       "12                 295.0          0.01             81.0        79.0   \n",
       "16                  74.0          4.60             99.0        99.0   \n",
       "\n",
       "    winz_Total_expenditure  winz_Diphtheria  winz_HIV/AIDS  \n",
       "1                     8.18             65.0            0.1  \n",
       "2                     8.13             65.0            0.1  \n",
       "11                    8.79             65.0            0.1  \n",
       "12                    8.82             65.0            0.1  \n",
       "16                    6.00             99.0            0.1  \n",
       "\n",
       "[5 rows x 32 columns]"
      ]
     },
     "execution_count": 77,
     "metadata": {},
     "output_type": "execute_result"
    }
   ],
   "source": [
    "dfL.head(5)"
   ]
  },
  {
   "cell_type": "markdown",
   "id": "0949c39d",
   "metadata": {},
   "source": [
    "### 2. Sampel Data World Happiness"
   ]
  },
  {
   "cell_type": "code",
   "execution_count": 17,
   "id": "c83b7de1",
   "metadata": {},
   "outputs": [
    {
     "data": {
      "text/html": [
       "<div>\n",
       "<style scoped>\n",
       "    .dataframe tbody tr th:only-of-type {\n",
       "        vertical-align: middle;\n",
       "    }\n",
       "\n",
       "    .dataframe tbody tr th {\n",
       "        vertical-align: top;\n",
       "    }\n",
       "\n",
       "    .dataframe thead th {\n",
       "        text-align: right;\n",
       "    }\n",
       "</style>\n",
       "<table border=\"1\" class=\"dataframe\">\n",
       "  <thead>\n",
       "    <tr style=\"text-align: right;\">\n",
       "      <th></th>\n",
       "      <th>Country</th>\n",
       "      <th>Region</th>\n",
       "      <th>Happiness_rank</th>\n",
       "      <th>Happiness_score</th>\n",
       "      <th>Standard_error</th>\n",
       "      <th>Economy(GDP_per_capita)</th>\n",
       "      <th>Family</th>\n",
       "      <th>Health(Life_expectancy)</th>\n",
       "      <th>Freedom</th>\n",
       "      <th>Trust(Goverment_corruption)</th>\n",
       "      <th>Generosity</th>\n",
       "      <th>Dystopia_residual</th>\n",
       "    </tr>\n",
       "  </thead>\n",
       "  <tbody>\n",
       "    <tr>\n",
       "      <th>0</th>\n",
       "      <td>Switzerland</td>\n",
       "      <td>Western Europe</td>\n",
       "      <td>1</td>\n",
       "      <td>7.587</td>\n",
       "      <td>0.03411</td>\n",
       "      <td>1.39651</td>\n",
       "      <td>1.34951</td>\n",
       "      <td>0.94143</td>\n",
       "      <td>0.66557</td>\n",
       "      <td>0.41978</td>\n",
       "      <td>0.29678</td>\n",
       "      <td>2.51738</td>\n",
       "    </tr>\n",
       "    <tr>\n",
       "      <th>1</th>\n",
       "      <td>Iceland</td>\n",
       "      <td>Western Europe</td>\n",
       "      <td>2</td>\n",
       "      <td>7.561</td>\n",
       "      <td>0.04884</td>\n",
       "      <td>1.30232</td>\n",
       "      <td>1.40223</td>\n",
       "      <td>0.94784</td>\n",
       "      <td>0.62877</td>\n",
       "      <td>0.14145</td>\n",
       "      <td>0.43630</td>\n",
       "      <td>2.70201</td>\n",
       "    </tr>\n",
       "    <tr>\n",
       "      <th>2</th>\n",
       "      <td>Denmark</td>\n",
       "      <td>Western Europe</td>\n",
       "      <td>3</td>\n",
       "      <td>7.527</td>\n",
       "      <td>0.03328</td>\n",
       "      <td>1.32548</td>\n",
       "      <td>1.36058</td>\n",
       "      <td>0.87464</td>\n",
       "      <td>0.64938</td>\n",
       "      <td>0.48357</td>\n",
       "      <td>0.34139</td>\n",
       "      <td>2.49204</td>\n",
       "    </tr>\n",
       "    <tr>\n",
       "      <th>3</th>\n",
       "      <td>Norway</td>\n",
       "      <td>Western Europe</td>\n",
       "      <td>4</td>\n",
       "      <td>7.522</td>\n",
       "      <td>0.03880</td>\n",
       "      <td>1.45900</td>\n",
       "      <td>1.33095</td>\n",
       "      <td>0.88521</td>\n",
       "      <td>0.66973</td>\n",
       "      <td>0.36503</td>\n",
       "      <td>0.34699</td>\n",
       "      <td>2.46531</td>\n",
       "    </tr>\n",
       "    <tr>\n",
       "      <th>4</th>\n",
       "      <td>Canada</td>\n",
       "      <td>North America</td>\n",
       "      <td>5</td>\n",
       "      <td>7.427</td>\n",
       "      <td>0.03553</td>\n",
       "      <td>1.32629</td>\n",
       "      <td>1.32261</td>\n",
       "      <td>0.90563</td>\n",
       "      <td>0.63297</td>\n",
       "      <td>0.32957</td>\n",
       "      <td>0.45811</td>\n",
       "      <td>2.45176</td>\n",
       "    </tr>\n",
       "  </tbody>\n",
       "</table>\n",
       "</div>"
      ],
      "text/plain": [
       "       Country          Region  Happiness_rank  Happiness_score  \\\n",
       "0  Switzerland  Western Europe               1            7.587   \n",
       "1      Iceland  Western Europe               2            7.561   \n",
       "2      Denmark  Western Europe               3            7.527   \n",
       "3       Norway  Western Europe               4            7.522   \n",
       "4       Canada   North America               5            7.427   \n",
       "\n",
       "   Standard_error  Economy(GDP_per_capita)   Family  Health(Life_expectancy)  \\\n",
       "0         0.03411                  1.39651  1.34951                  0.94143   \n",
       "1         0.04884                  1.30232  1.40223                  0.94784   \n",
       "2         0.03328                  1.32548  1.36058                  0.87464   \n",
       "3         0.03880                  1.45900  1.33095                  0.88521   \n",
       "4         0.03553                  1.32629  1.32261                  0.90563   \n",
       "\n",
       "   Freedom  Trust(Goverment_corruption)  Generosity  Dystopia_residual  \n",
       "0  0.66557                      0.41978     0.29678            2.51738  \n",
       "1  0.62877                      0.14145     0.43630            2.70201  \n",
       "2  0.64938                      0.48357     0.34139            2.49204  \n",
       "3  0.66973                      0.36503     0.34699            2.46531  \n",
       "4  0.63297                      0.32957     0.45811            2.45176  "
      ]
     },
     "execution_count": 17,
     "metadata": {},
     "output_type": "execute_result"
    }
   ],
   "source": [
    "dfW.head(5)"
   ]
  },
  {
   "cell_type": "markdown",
   "id": "3c179ad4",
   "metadata": {},
   "source": [
    "![](Blue.png)"
   ]
  },
  {
   "cell_type": "markdown",
   "id": "75f810af",
   "metadata": {},
   "source": [
    "## Statistik\n",
    "****"
   ]
  },
  {
   "cell_type": "markdown",
   "id": "50f3f64d",
   "metadata": {},
   "source": [
    "### 1. Data Life Expectancy"
   ]
  },
  {
   "cell_type": "code",
   "execution_count": 55,
   "id": "1f92b7b7",
   "metadata": {},
   "outputs": [
    {
     "data": {
      "text/html": [
       "<div>\n",
       "<style scoped>\n",
       "    .dataframe tbody tr th:only-of-type {\n",
       "        vertical-align: middle;\n",
       "    }\n",
       "\n",
       "    .dataframe tbody tr th {\n",
       "        vertical-align: top;\n",
       "    }\n",
       "\n",
       "    .dataframe thead th {\n",
       "        text-align: right;\n",
       "    }\n",
       "</style>\n",
       "<table border=\"1\" class=\"dataframe\">\n",
       "  <thead>\n",
       "    <tr style=\"text-align: right;\">\n",
       "      <th></th>\n",
       "      <th>Year</th>\n",
       "      <th>Life_expectancy</th>\n",
       "      <th>Adult_mortality</th>\n",
       "      <th>Infant_deaths</th>\n",
       "      <th>Alcohol</th>\n",
       "      <th>Percentage_expenditure</th>\n",
       "      <th>HepatitisB</th>\n",
       "      <th>Measles</th>\n",
       "      <th>BMI</th>\n",
       "      <th>Under_five_deaths</th>\n",
       "      <th>Polio</th>\n",
       "      <th>Total_expenditure</th>\n",
       "      <th>Diphtheria</th>\n",
       "      <th>HIV/AIDS</th>\n",
       "      <th>GDP</th>\n",
       "      <th>Population</th>\n",
       "      <th>thinness  1-19 years</th>\n",
       "      <th>thinness 5-9 years</th>\n",
       "      <th>Income_composition_of_resources</th>\n",
       "      <th>Schooling</th>\n",
       "    </tr>\n",
       "  </thead>\n",
       "  <tbody>\n",
       "    <tr>\n",
       "      <th>count</th>\n",
       "      <td>2,938.00</td>\n",
       "      <td>2,928.00</td>\n",
       "      <td>2,928.00</td>\n",
       "      <td>2,938.00</td>\n",
       "      <td>2,744.00</td>\n",
       "      <td>2,938.00</td>\n",
       "      <td>2,385.00</td>\n",
       "      <td>2,938.00</td>\n",
       "      <td>2,904.00</td>\n",
       "      <td>2,938.00</td>\n",
       "      <td>2,919.00</td>\n",
       "      <td>2,712.00</td>\n",
       "      <td>2,919.00</td>\n",
       "      <td>2,938.00</td>\n",
       "      <td>2,490.00</td>\n",
       "      <td>2,286.00</td>\n",
       "      <td>2,904.00</td>\n",
       "      <td>2,904.00</td>\n",
       "      <td>2,771.00</td>\n",
       "      <td>2,775.00</td>\n",
       "    </tr>\n",
       "    <tr>\n",
       "      <th>mean</th>\n",
       "      <td>2,007.52</td>\n",
       "      <td>69.22</td>\n",
       "      <td>164.80</td>\n",
       "      <td>30.30</td>\n",
       "      <td>4.60</td>\n",
       "      <td>738.25</td>\n",
       "      <td>80.94</td>\n",
       "      <td>2,419.59</td>\n",
       "      <td>38.32</td>\n",
       "      <td>42.04</td>\n",
       "      <td>82.55</td>\n",
       "      <td>5.94</td>\n",
       "      <td>82.32</td>\n",
       "      <td>1.74</td>\n",
       "      <td>7,483.16</td>\n",
       "      <td>12,753,375.12</td>\n",
       "      <td>4.84</td>\n",
       "      <td>4.87</td>\n",
       "      <td>0.63</td>\n",
       "      <td>11.99</td>\n",
       "    </tr>\n",
       "    <tr>\n",
       "      <th>std</th>\n",
       "      <td>4.61</td>\n",
       "      <td>9.52</td>\n",
       "      <td>124.29</td>\n",
       "      <td>117.93</td>\n",
       "      <td>4.05</td>\n",
       "      <td>1,987.91</td>\n",
       "      <td>25.07</td>\n",
       "      <td>11,467.27</td>\n",
       "      <td>20.04</td>\n",
       "      <td>160.45</td>\n",
       "      <td>23.43</td>\n",
       "      <td>2.50</td>\n",
       "      <td>23.72</td>\n",
       "      <td>5.08</td>\n",
       "      <td>14,270.17</td>\n",
       "      <td>61,012,096.51</td>\n",
       "      <td>4.42</td>\n",
       "      <td>4.51</td>\n",
       "      <td>0.21</td>\n",
       "      <td>3.36</td>\n",
       "    </tr>\n",
       "    <tr>\n",
       "      <th>min</th>\n",
       "      <td>2,000.00</td>\n",
       "      <td>36.30</td>\n",
       "      <td>1.00</td>\n",
       "      <td>0.00</td>\n",
       "      <td>0.01</td>\n",
       "      <td>0.00</td>\n",
       "      <td>1.00</td>\n",
       "      <td>0.00</td>\n",
       "      <td>1.00</td>\n",
       "      <td>0.00</td>\n",
       "      <td>3.00</td>\n",
       "      <td>0.37</td>\n",
       "      <td>2.00</td>\n",
       "      <td>0.10</td>\n",
       "      <td>1.68</td>\n",
       "      <td>34.00</td>\n",
       "      <td>0.10</td>\n",
       "      <td>0.10</td>\n",
       "      <td>0.00</td>\n",
       "      <td>0.00</td>\n",
       "    </tr>\n",
       "    <tr>\n",
       "      <th>25%</th>\n",
       "      <td>2,004.00</td>\n",
       "      <td>63.10</td>\n",
       "      <td>74.00</td>\n",
       "      <td>0.00</td>\n",
       "      <td>0.88</td>\n",
       "      <td>4.69</td>\n",
       "      <td>77.00</td>\n",
       "      <td>0.00</td>\n",
       "      <td>19.30</td>\n",
       "      <td>0.00</td>\n",
       "      <td>78.00</td>\n",
       "      <td>4.26</td>\n",
       "      <td>78.00</td>\n",
       "      <td>0.10</td>\n",
       "      <td>463.94</td>\n",
       "      <td>195,793.25</td>\n",
       "      <td>1.60</td>\n",
       "      <td>1.50</td>\n",
       "      <td>0.49</td>\n",
       "      <td>10.10</td>\n",
       "    </tr>\n",
       "    <tr>\n",
       "      <th>50%</th>\n",
       "      <td>2,008.00</td>\n",
       "      <td>72.10</td>\n",
       "      <td>144.00</td>\n",
       "      <td>3.00</td>\n",
       "      <td>3.75</td>\n",
       "      <td>64.91</td>\n",
       "      <td>92.00</td>\n",
       "      <td>17.00</td>\n",
       "      <td>43.50</td>\n",
       "      <td>4.00</td>\n",
       "      <td>93.00</td>\n",
       "      <td>5.75</td>\n",
       "      <td>93.00</td>\n",
       "      <td>0.10</td>\n",
       "      <td>1,766.95</td>\n",
       "      <td>1,386,542.00</td>\n",
       "      <td>3.30</td>\n",
       "      <td>3.30</td>\n",
       "      <td>0.68</td>\n",
       "      <td>12.30</td>\n",
       "    </tr>\n",
       "    <tr>\n",
       "      <th>75%</th>\n",
       "      <td>2,012.00</td>\n",
       "      <td>75.70</td>\n",
       "      <td>228.00</td>\n",
       "      <td>22.00</td>\n",
       "      <td>7.70</td>\n",
       "      <td>441.53</td>\n",
       "      <td>97.00</td>\n",
       "      <td>360.25</td>\n",
       "      <td>56.20</td>\n",
       "      <td>28.00</td>\n",
       "      <td>97.00</td>\n",
       "      <td>7.49</td>\n",
       "      <td>97.00</td>\n",
       "      <td>0.80</td>\n",
       "      <td>5,910.81</td>\n",
       "      <td>7,420,359.00</td>\n",
       "      <td>7.20</td>\n",
       "      <td>7.20</td>\n",
       "      <td>0.78</td>\n",
       "      <td>14.30</td>\n",
       "    </tr>\n",
       "    <tr>\n",
       "      <th>max</th>\n",
       "      <td>2,015.00</td>\n",
       "      <td>89.00</td>\n",
       "      <td>723.00</td>\n",
       "      <td>1,800.00</td>\n",
       "      <td>17.87</td>\n",
       "      <td>19,479.91</td>\n",
       "      <td>99.00</td>\n",
       "      <td>212,183.00</td>\n",
       "      <td>87.30</td>\n",
       "      <td>2,500.00</td>\n",
       "      <td>99.00</td>\n",
       "      <td>17.60</td>\n",
       "      <td>99.00</td>\n",
       "      <td>50.60</td>\n",
       "      <td>119,172.74</td>\n",
       "      <td>1,293,859,294.00</td>\n",
       "      <td>27.70</td>\n",
       "      <td>28.60</td>\n",
       "      <td>0.95</td>\n",
       "      <td>20.70</td>\n",
       "    </tr>\n",
       "  </tbody>\n",
       "</table>\n",
       "</div>"
      ],
      "text/plain": [
       "          Year  Life_expectancy  Adult_mortality  Infant_deaths  Alcohol  \\\n",
       "count 2,938.00         2,928.00         2,928.00       2,938.00 2,744.00   \n",
       "mean  2,007.52            69.22           164.80          30.30     4.60   \n",
       "std       4.61             9.52           124.29         117.93     4.05   \n",
       "min   2,000.00            36.30             1.00           0.00     0.01   \n",
       "25%   2,004.00            63.10            74.00           0.00     0.88   \n",
       "50%   2,008.00            72.10           144.00           3.00     3.75   \n",
       "75%   2,012.00            75.70           228.00          22.00     7.70   \n",
       "max   2,015.00            89.00           723.00       1,800.00    17.87   \n",
       "\n",
       "       Percentage_expenditure  HepatitisB    Measles     BMI   \\\n",
       "count                2,938.00    2,385.00   2,938.00 2,904.00   \n",
       "mean                   738.25       80.94   2,419.59    38.32   \n",
       "std                  1,987.91       25.07  11,467.27    20.04   \n",
       "min                      0.00        1.00       0.00     1.00   \n",
       "25%                      4.69       77.00       0.00    19.30   \n",
       "50%                     64.91       92.00      17.00    43.50   \n",
       "75%                    441.53       97.00     360.25    56.20   \n",
       "max                 19,479.91       99.00 212,183.00    87.30   \n",
       "\n",
       "       Under_five_deaths    Polio  Total_expenditure  Diphtheria  HIV/AIDS  \\\n",
       "count           2,938.00 2,919.00           2,712.00    2,919.00  2,938.00   \n",
       "mean               42.04    82.55               5.94       82.32      1.74   \n",
       "std               160.45    23.43               2.50       23.72      5.08   \n",
       "min                 0.00     3.00               0.37        2.00      0.10   \n",
       "25%                 0.00    78.00               4.26       78.00      0.10   \n",
       "50%                 4.00    93.00               5.75       93.00      0.10   \n",
       "75%                28.00    97.00               7.49       97.00      0.80   \n",
       "max             2,500.00    99.00              17.60       99.00     50.60   \n",
       "\n",
       "             GDP       Population  thinness  1-19 years  thinness 5-9 years  \\\n",
       "count   2,490.00         2,286.00              2,904.00            2,904.00   \n",
       "mean    7,483.16    12,753,375.12                  4.84                4.87   \n",
       "std    14,270.17    61,012,096.51                  4.42                4.51   \n",
       "min         1.68            34.00                  0.10                0.10   \n",
       "25%       463.94       195,793.25                  1.60                1.50   \n",
       "50%     1,766.95     1,386,542.00                  3.30                3.30   \n",
       "75%     5,910.81     7,420,359.00                  7.20                7.20   \n",
       "max   119,172.74 1,293,859,294.00                 27.70               28.60   \n",
       "\n",
       "       Income_composition_of_resources  Schooling  \n",
       "count                         2,771.00   2,775.00  \n",
       "mean                              0.63      11.99  \n",
       "std                               0.21       3.36  \n",
       "min                               0.00       0.00  \n",
       "25%                               0.49      10.10  \n",
       "50%                               0.68      12.30  \n",
       "75%                               0.78      14.30  \n",
       "max                               0.95      20.70  "
      ]
     },
     "execution_count": 55,
     "metadata": {},
     "output_type": "execute_result"
    }
   ],
   "source": [
    "pd.options.display.float_format = \"{:,.2f}\".format\n",
    "dfL.describe()\n",
    "\n",
    "# TBC"
   ]
  },
  {
   "cell_type": "code",
   "execution_count": 47,
   "id": "ddd17f14",
   "metadata": {},
   "outputs": [
    {
     "data": {
      "text/plain": [
       "<AxesSubplot:>"
      ]
     },
     "execution_count": 47,
     "metadata": {},
     "output_type": "execute_result"
    },
    {
     "data": {
      "image/png": "[encoded data removed]",
      "text/plain": [
       "<Figure size 432x288 with 1 Axes>"
      ]
     },
     "metadata": {
      "needs_background": "light"
     },
     "output_type": "display_data"
    }
   ],
   "source": [
    "dfL.boxplot(column=\"Life_expectancy\")"
   ]
  },
  {
   "cell_type": "markdown",
   "id": "17dec385",
   "metadata": {},
   "source": [
    "**Kesimpulan**: TBC"
   ]
  },
  {
   "cell_type": "markdown",
   "id": "2431afda",
   "metadata": {},
   "source": [
    "### 2. Data World Happiness"
   ]
  },
  {
   "cell_type": "code",
   "execution_count": 18,
   "id": "27c57c60",
   "metadata": {},
   "outputs": [
    {
     "data": {
      "text/html": [
       "<div>\n",
       "<style scoped>\n",
       "    .dataframe tbody tr th:only-of-type {\n",
       "        vertical-align: middle;\n",
       "    }\n",
       "\n",
       "    .dataframe tbody tr th {\n",
       "        vertical-align: top;\n",
       "    }\n",
       "\n",
       "    .dataframe thead th {\n",
       "        text-align: right;\n",
       "    }\n",
       "</style>\n",
       "<table border=\"1\" class=\"dataframe\">\n",
       "  <thead>\n",
       "    <tr style=\"text-align: right;\">\n",
       "      <th></th>\n",
       "      <th>Happiness Rank</th>\n",
       "      <th>Happiness Score</th>\n",
       "      <th>Standard Error</th>\n",
       "      <th>Economy (GDP per Capita)</th>\n",
       "      <th>Family</th>\n",
       "      <th>Health (Life Expectancy)</th>\n",
       "      <th>Freedom</th>\n",
       "      <th>Trust (Government Corruption)</th>\n",
       "      <th>Generosity</th>\n",
       "      <th>Dystopia Residual</th>\n",
       "    </tr>\n",
       "  </thead>\n",
       "  <tbody>\n",
       "    <tr>\n",
       "      <th>count</th>\n",
       "      <td>158.000000</td>\n",
       "      <td>158.000000</td>\n",
       "      <td>158.000000</td>\n",
       "      <td>158.000000</td>\n",
       "      <td>158.000000</td>\n",
       "      <td>158.000000</td>\n",
       "      <td>158.000000</td>\n",
       "      <td>158.000000</td>\n",
       "      <td>158.000000</td>\n",
       "      <td>158.000000</td>\n",
       "    </tr>\n",
       "    <tr>\n",
       "      <th>mean</th>\n",
       "      <td>79.493671</td>\n",
       "      <td>5.375734</td>\n",
       "      <td>0.047885</td>\n",
       "      <td>0.846137</td>\n",
       "      <td>0.991046</td>\n",
       "      <td>0.630259</td>\n",
       "      <td>0.428615</td>\n",
       "      <td>0.143422</td>\n",
       "      <td>0.237296</td>\n",
       "      <td>2.098977</td>\n",
       "    </tr>\n",
       "    <tr>\n",
       "      <th>std</th>\n",
       "      <td>45.754363</td>\n",
       "      <td>1.145010</td>\n",
       "      <td>0.017146</td>\n",
       "      <td>0.403121</td>\n",
       "      <td>0.272369</td>\n",
       "      <td>0.247078</td>\n",
       "      <td>0.150693</td>\n",
       "      <td>0.120034</td>\n",
       "      <td>0.126685</td>\n",
       "      <td>0.553550</td>\n",
       "    </tr>\n",
       "    <tr>\n",
       "      <th>min</th>\n",
       "      <td>1.000000</td>\n",
       "      <td>2.839000</td>\n",
       "      <td>0.018480</td>\n",
       "      <td>0.000000</td>\n",
       "      <td>0.000000</td>\n",
       "      <td>0.000000</td>\n",
       "      <td>0.000000</td>\n",
       "      <td>0.000000</td>\n",
       "      <td>0.000000</td>\n",
       "      <td>0.328580</td>\n",
       "    </tr>\n",
       "    <tr>\n",
       "      <th>25%</th>\n",
       "      <td>40.250000</td>\n",
       "      <td>4.526000</td>\n",
       "      <td>0.037268</td>\n",
       "      <td>0.545808</td>\n",
       "      <td>0.856823</td>\n",
       "      <td>0.439185</td>\n",
       "      <td>0.328330</td>\n",
       "      <td>0.061675</td>\n",
       "      <td>0.150553</td>\n",
       "      <td>1.759410</td>\n",
       "    </tr>\n",
       "    <tr>\n",
       "      <th>50%</th>\n",
       "      <td>79.500000</td>\n",
       "      <td>5.232500</td>\n",
       "      <td>0.043940</td>\n",
       "      <td>0.910245</td>\n",
       "      <td>1.029510</td>\n",
       "      <td>0.696705</td>\n",
       "      <td>0.435515</td>\n",
       "      <td>0.107220</td>\n",
       "      <td>0.216130</td>\n",
       "      <td>2.095415</td>\n",
       "    </tr>\n",
       "    <tr>\n",
       "      <th>75%</th>\n",
       "      <td>118.750000</td>\n",
       "      <td>6.243750</td>\n",
       "      <td>0.052300</td>\n",
       "      <td>1.158448</td>\n",
       "      <td>1.214405</td>\n",
       "      <td>0.811013</td>\n",
       "      <td>0.549092</td>\n",
       "      <td>0.180255</td>\n",
       "      <td>0.309883</td>\n",
       "      <td>2.462415</td>\n",
       "    </tr>\n",
       "    <tr>\n",
       "      <th>max</th>\n",
       "      <td>158.000000</td>\n",
       "      <td>7.587000</td>\n",
       "      <td>0.136930</td>\n",
       "      <td>1.690420</td>\n",
       "      <td>1.402230</td>\n",
       "      <td>1.025250</td>\n",
       "      <td>0.669730</td>\n",
       "      <td>0.551910</td>\n",
       "      <td>0.795880</td>\n",
       "      <td>3.602140</td>\n",
       "    </tr>\n",
       "  </tbody>\n",
       "</table>\n",
       "</div>"
      ],
      "text/plain": [
       "       Happiness Rank  Happiness Score  Standard Error  \\\n",
       "count      158.000000       158.000000      158.000000   \n",
       "mean        79.493671         5.375734        0.047885   \n",
       "std         45.754363         1.145010        0.017146   \n",
       "min          1.000000         2.839000        0.018480   \n",
       "25%         40.250000         4.526000        0.037268   \n",
       "50%         79.500000         5.232500        0.043940   \n",
       "75%        118.750000         6.243750        0.052300   \n",
       "max        158.000000         7.587000        0.136930   \n",
       "\n",
       "       Economy (GDP per Capita)      Family  Health (Life Expectancy)  \\\n",
       "count                158.000000  158.000000                158.000000   \n",
       "mean                   0.846137    0.991046                  0.630259   \n",
       "std                    0.403121    0.272369                  0.247078   \n",
       "min                    0.000000    0.000000                  0.000000   \n",
       "25%                    0.545808    0.856823                  0.439185   \n",
       "50%                    0.910245    1.029510                  0.696705   \n",
       "75%                    1.158448    1.214405                  0.811013   \n",
       "max                    1.690420    1.402230                  1.025250   \n",
       "\n",
       "          Freedom  Trust (Government Corruption)  Generosity  \\\n",
       "count  158.000000                     158.000000  158.000000   \n",
       "mean     0.428615                       0.143422    0.237296   \n",
       "std      0.150693                       0.120034    0.126685   \n",
       "min      0.000000                       0.000000    0.000000   \n",
       "25%      0.328330                       0.061675    0.150553   \n",
       "50%      0.435515                       0.107220    0.216130   \n",
       "75%      0.549092                       0.180255    0.309883   \n",
       "max      0.669730                       0.551910    0.795880   \n",
       "\n",
       "       Dystopia Residual  \n",
       "count         158.000000  \n",
       "mean            2.098977  \n",
       "std             0.553550  \n",
       "min             0.328580  \n",
       "25%             1.759410  \n",
       "50%             2.095415  \n",
       "75%             2.462415  \n",
       "max             3.602140  "
      ]
     },
     "execution_count": 18,
     "metadata": {},
     "output_type": "execute_result"
    }
   ],
   "source": [
    "dfW.describe()\n",
    "# TBC"
   ]
  },
  {
   "cell_type": "markdown",
   "id": "fa9b911b",
   "metadata": {},
   "source": [
    "**Kesimpulan**: TBC"
   ]
  },
  {
   "cell_type": "markdown",
   "id": "ea30eed0",
   "metadata": {},
   "source": [
    "![](Purple.png)"
   ]
  },
  {
   "cell_type": "markdown",
   "id": "42546db0",
   "metadata": {},
   "source": [
    "# F. Visualisasi\n",
    "****"
   ]
  },
  {
   "cell_type": "code",
   "execution_count": null,
   "id": "14a33947",
   "metadata": {},
   "outputs": [],
   "source": []
  },
  {
   "cell_type": "code",
   "execution_count": null,
   "id": "fc312e60",
   "metadata": {},
   "outputs": [],
   "source": []
  },
  {
   "cell_type": "code",
   "execution_count": null,
   "id": "4c1b4b8f",
   "metadata": {},
   "outputs": [],
   "source": []
  },
  {
   "cell_type": "code",
   "execution_count": null,
   "id": "0114c12c",
   "metadata": {},
   "outputs": [],
   "source": []
  },
  {
   "cell_type": "code",
   "execution_count": null,
   "id": "8e90ca6d",
   "metadata": {},
   "outputs": [],
   "source": []
  },
  {
   "cell_type": "code",
   "execution_count": null,
   "id": "d9689e50",
   "metadata": {},
   "outputs": [],
   "source": []
  },
  {
   "cell_type": "code",
   "execution_count": null,
   "id": "70ada6ee",
   "metadata": {},
   "outputs": [],
   "source": []
  },
  {
   "cell_type": "code",
   "execution_count": null,
   "id": "455da4bd",
   "metadata": {},
   "outputs": [],
   "source": []
  },
  {
   "cell_type": "code",
   "execution_count": null,
   "id": "16208b77",
   "metadata": {},
   "outputs": [],
   "source": []
  },
  {
   "cell_type": "code",
   "execution_count": null,
   "id": "cb0b989f",
   "metadata": {},
   "outputs": [],
   "source": []
  },
  {
   "cell_type": "markdown",
   "id": "204bfd15",
   "metadata": {},
   "source": [
    "![](Purple.png)"
   ]
  },
  {
   "cell_type": "markdown",
   "id": "a287bcce",
   "metadata": {},
   "source": [
    "# G. Korelasi"
   ]
  },
  {
   "cell_type": "code",
   "execution_count": null,
   "id": "ace7cb05",
   "metadata": {},
   "outputs": [],
   "source": []
  },
  {
   "cell_type": "code",
   "execution_count": null,
   "id": "f786844d",
   "metadata": {},
   "outputs": [],
   "source": []
  },
  {
   "cell_type": "code",
   "execution_count": null,
   "id": "3094d2c6",
   "metadata": {},
   "outputs": [],
   "source": []
  },
  {
   "cell_type": "code",
   "execution_count": null,
   "id": "c07976b2",
   "metadata": {},
   "outputs": [],
   "source": []
  },
  {
   "cell_type": "code",
   "execution_count": null,
   "id": "57b167a4",
   "metadata": {},
   "outputs": [],
   "source": []
  },
  {
   "cell_type": "code",
   "execution_count": null,
   "id": "2c67be24",
   "metadata": {},
   "outputs": [],
   "source": []
  },
  {
   "cell_type": "code",
   "execution_count": null,
   "id": "8db87325",
   "metadata": {},
   "outputs": [],
   "source": []
  }
 ],
 "metadata": {
  "kernelspec": {
   "display_name": "Python 3",
   "language": "python",
   "name": "python3"
  },
  "language_info": {
   "codemirror_mode": {
    "name": "ipython",
    "version": 3
   },
   "file_extension": ".py",
   "mimetype": "text/x-python",
   "name": "python",
   "nbconvert_exporter": "python",
   "pygments_lexer": "ipython3",
   "version": "3.8.8"
  }
 },
 "nbformat": 4,
 "nbformat_minor": 5
}
